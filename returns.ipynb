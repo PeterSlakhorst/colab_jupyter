{
  "nbformat": 4,
  "nbformat_minor": 0,
  "metadata": {
    "colab": {
      "name": "returns.ipynb",
      "provenance": [],
      "collapsed_sections": [],
      "authorship_tag": "ABX9TyPzWAfQmeDSaE9GXvryi40F",
      "include_colab_link": true
    },
    "kernelspec": {
      "name": "python3",
      "display_name": "Python 3"
    }
  },
  "cells": [
    {
      "cell_type": "markdown",
      "metadata": {
        "id": "view-in-github",
        "colab_type": "text"
      },
      "source": [
        "<a href=\"https://colab.research.google.com/github/PeterSlakhorst/colab_jupyter/blob/master/returns.ipynb\" target=\"_parent\"><img src=\"https://colab.research.google.com/assets/colab-badge.svg\" alt=\"Open In Colab\"/></a>"
      ]
    },
    {
      "cell_type": "markdown",
      "metadata": {
        "id": "O4wauRhSKaKs",
        "colab_type": "text"
      },
      "source": [
        "**Calculate log return in numpy and pandas**"
      ]
    },
    {
      "cell_type": "code",
      "metadata": {
        "id": "2tiHaSpoJmgm",
        "colab_type": "code",
        "colab": {}
      },
      "source": [
        "import numpy as np\n",
        "import pandas as pd\n",
        "\n",
        "# This is a plotting library for pretty pictures.\n",
        "import matplotlib.pyplot as plt"
      ],
      "execution_count": 0,
      "outputs": []
    },
    {
      "cell_type": "code",
      "metadata": {
        "id": "ss5DkpIXKqhz",
        "colab_type": "code",
        "colab": {}
      },
      "source": [
        "# create pandas dateframe from scratch\n",
        "\n",
        "symbol = ['ASTOCK']*8\n",
        "prices = pd.Series([100, 105, 107, 107, 105, 109, 110, 120])\n",
        "t = pd.date_range(start='1/1/2018', end='1/08/2018')\n",
        "s = pd.Series(symbol)\n",
        "\n",
        "frame = { 'Date': t, 'Ticker': s, 'Price': prices} \n",
        "  \n",
        "result = pd.DataFrame(frame)\n",
        "result = result.set_index('Date')"
      ],
      "execution_count": 0,
      "outputs": []
    },
    {
      "cell_type": "code",
      "metadata": {
        "id": "ZDUhDvOsZGMt",
        "colab_type": "code",
        "colab": {}
      },
      "source": [
        "result['Return']= result['Price'].pct_change()\n",
        "result['Log Return'] = np.log(result['Price']/result['Price'].shift(1))"
      ],
      "execution_count": 0,
      "outputs": []
    },
    {
      "cell_type": "code",
      "metadata": {
        "id": "uM9jVhT8ZG6j",
        "colab_type": "code",
        "outputId": "bfe16034-e13c-41c9-a06c-19ae2289bd55",
        "colab": {
          "base_uri": "https://localhost:8080/",
          "height": 345
        }
      },
      "source": [
        "print(\"Het gemiddelde van de log returns is:\",  result.Price.mean())\n",
        "result\n"
      ],
      "execution_count": 0,
      "outputs": [
        {
          "output_type": "stream",
          "text": [
            "Het gemiddelde van de log returns is: 107.875\n"
          ],
          "name": "stdout"
        },
        {
          "output_type": "execute_result",
          "data": {
            "text/html": [
              "<div>\n",
              "<style scoped>\n",
              "    .dataframe tbody tr th:only-of-type {\n",
              "        vertical-align: middle;\n",
              "    }\n",
              "\n",
              "    .dataframe tbody tr th {\n",
              "        vertical-align: top;\n",
              "    }\n",
              "\n",
              "    .dataframe thead th {\n",
              "        text-align: right;\n",
              "    }\n",
              "</style>\n",
              "<table border=\"1\" class=\"dataframe\">\n",
              "  <thead>\n",
              "    <tr style=\"text-align: right;\">\n",
              "      <th></th>\n",
              "      <th>Ticker</th>\n",
              "      <th>Price</th>\n",
              "      <th>Return</th>\n",
              "      <th>Log Return</th>\n",
              "    </tr>\n",
              "    <tr>\n",
              "      <th>Date</th>\n",
              "      <th></th>\n",
              "      <th></th>\n",
              "      <th></th>\n",
              "      <th></th>\n",
              "    </tr>\n",
              "  </thead>\n",
              "  <tbody>\n",
              "    <tr>\n",
              "      <th>2018-01-01</th>\n",
              "      <td>ASTOCK</td>\n",
              "      <td>100</td>\n",
              "      <td>NaN</td>\n",
              "      <td>NaN</td>\n",
              "    </tr>\n",
              "    <tr>\n",
              "      <th>2018-01-02</th>\n",
              "      <td>ASTOCK</td>\n",
              "      <td>105</td>\n",
              "      <td>0.050000</td>\n",
              "      <td>0.048790</td>\n",
              "    </tr>\n",
              "    <tr>\n",
              "      <th>2018-01-03</th>\n",
              "      <td>ASTOCK</td>\n",
              "      <td>107</td>\n",
              "      <td>0.019048</td>\n",
              "      <td>0.018868</td>\n",
              "    </tr>\n",
              "    <tr>\n",
              "      <th>2018-01-04</th>\n",
              "      <td>ASTOCK</td>\n",
              "      <td>107</td>\n",
              "      <td>0.000000</td>\n",
              "      <td>0.000000</td>\n",
              "    </tr>\n",
              "    <tr>\n",
              "      <th>2018-01-05</th>\n",
              "      <td>ASTOCK</td>\n",
              "      <td>105</td>\n",
              "      <td>-0.018692</td>\n",
              "      <td>-0.018868</td>\n",
              "    </tr>\n",
              "    <tr>\n",
              "      <th>2018-01-06</th>\n",
              "      <td>ASTOCK</td>\n",
              "      <td>109</td>\n",
              "      <td>0.038095</td>\n",
              "      <td>0.037388</td>\n",
              "    </tr>\n",
              "    <tr>\n",
              "      <th>2018-01-07</th>\n",
              "      <td>ASTOCK</td>\n",
              "      <td>110</td>\n",
              "      <td>0.009174</td>\n",
              "      <td>0.009132</td>\n",
              "    </tr>\n",
              "    <tr>\n",
              "      <th>2018-01-08</th>\n",
              "      <td>ASTOCK</td>\n",
              "      <td>120</td>\n",
              "      <td>0.090909</td>\n",
              "      <td>0.087011</td>\n",
              "    </tr>\n",
              "  </tbody>\n",
              "</table>\n",
              "</div>"
            ],
            "text/plain": [
              "            Ticker  Price    Return  Log Return\n",
              "Date                                           \n",
              "2018-01-01  ASTOCK    100       NaN         NaN\n",
              "2018-01-02  ASTOCK    105  0.050000    0.048790\n",
              "2018-01-03  ASTOCK    107  0.019048    0.018868\n",
              "2018-01-04  ASTOCK    107  0.000000    0.000000\n",
              "2018-01-05  ASTOCK    105 -0.018692   -0.018868\n",
              "2018-01-06  ASTOCK    109  0.038095    0.037388\n",
              "2018-01-07  ASTOCK    110  0.009174    0.009132\n",
              "2018-01-08  ASTOCK    120  0.090909    0.087011"
            ]
          },
          "metadata": {
            "tags": []
          },
          "execution_count": 4
        }
      ]
    },
    {
      "cell_type": "code",
      "metadata": {
        "id": "IQ-erbSU3RyH",
        "colab_type": "code",
        "outputId": "b956346d-eb91-4296-8006-efe502133d6e",
        "colab": {
          "base_uri": "https://localhost:8080/",
          "height": 303
        }
      },
      "source": [
        "result[['Return', \"Log Return\"]].plot();"
      ],
      "execution_count": 0,
      "outputs": [
        {
          "output_type": "display_data",
          "data": {
            "image/png": "[encoded data removed]",
            "text/plain": [
              "<Figure size 432x288 with 1 Axes>"
            ]
          },
          "metadata": {
            "tags": [],
            "needs_background": "light"
          }
        }
      ]
    },
    {
      "cell_type": "code",
      "metadata": {
        "id": "v4dfJFpP3sbx",
        "colab_type": "code",
        "colab": {}
      },
      "source": [
        ""
      ],
      "execution_count": 0,
      "outputs": []
    },
    {
      "cell_type": "markdown",
      "metadata": {
        "id": "70JHbL5m3s_K",
        "colab_type": "text"
      },
      "source": [
        "#  Lees csv-file from google drive"
      ]
    },
    {
      "cell_type": "code",
      "metadata": {
        "id": "uD04mKc93c4D",
        "colab_type": "code",
        "outputId": "da658ba3-1e3c-4811-ff88-1eeeccda42c8",
        "colab": {
          "base_uri": "https://localhost:8080/",
          "height": 122
        }
      },
      "source": [
        "# Load the Drive helper and mount\n",
        "from google.colab import drive\n",
        "\n",
        "# This will prompt for authorization.\n",
        "drive.mount('/content/drive')\n",
        "\n",
        "my_drive_path = \"/content/drive/My Drive/Colab Notebooks/data/\""
      ],
      "execution_count": 4,
      "outputs": [
        {
          "output_type": "stream",
          "text": [
            "Go to this URL in a browser: https://accounts.google.com/o/oauth2/auth?client_id=947318989803-6bn6qk8qdgf4n4g3pfee6491hc0brc4i.apps.googleusercontent.com&redirect_uri=urn%3aietf%3awg%3aoauth%3a2.0%3aoob&response_type=code&scope=email%20https%3a%2f%2fwww.googleapis.com%2fauth%2fdocs.test%20https%3a%2f%2fwww.googleapis.com%2fauth%2fdrive%20https%3a%2f%2fwww.googleapis.com%2fauth%2fdrive.photos.readonly%20https%3a%2f%2fwww.googleapis.com%2fauth%2fpeopleapi.readonly\n",
            "\n",
            "Enter your authorization code:\n",
            "··········\n",
            "Mounted at /content/drive\n"
          ],
          "name": "stdout"
        }
      ]
    },
    {
      "cell_type": "code",
      "metadata": {
        "id": "CMt2yOrJ44BN",
        "colab_type": "code",
        "outputId": "be81bca5-e404-4f40-b785-113551d90cb5",
        "colab": {
          "base_uri": "https://localhost:8080/",
          "height": 34
        }
      },
      "source": [
        "#!ls \"/content/drive/My Drive\"\n",
        "!ls \"/content/drive/My Drive/Colab Notebooks/data\""
      ],
      "execution_count": 0,
      "outputs": [
        {
          "output_type": "stream",
          "text": [
            "'Copy of PyfAT #1 LIVE.ipynb'   movie_lines.txt   prices.csv\n"
          ],
          "name": "stdout"
        }
      ]
    },
    {
      "cell_type": "code",
      "metadata": {
        "id": "Vv6FOkCs5DJW",
        "colab_type": "code",
        "colab": {}
      },
      "source": [
        "file_name = 'prices.csv'\n",
        "prices = pd.read_csv(my_drive_path+file_name, parse_dates=['date'])\n",
        "\n"
      ],
      "execution_count": 0,
      "outputs": []
    },
    {
      "cell_type": "code",
      "metadata": {
        "id": "VEpcgpAvUK3U",
        "colab_type": "code",
        "outputId": "3b7bb027-c0af-4ae0-f9d1-e8cd70c96e3e",
        "colab": {
          "base_uri": "https://localhost:8080/",
          "height": 359
        }
      },
      "source": [
        "#  add log return to the dataframe\n",
        "prices['Log Return'] = np.log(prices['price']/prices['price'].shift(1))\n",
        "prices.tail(10)"
      ],
      "execution_count": 0,
      "outputs": [
        {
          "output_type": "execute_result",
          "data": {
            "text/html": [
              "<div>\n",
              "<style scoped>\n",
              "    .dataframe tbody tr th:only-of-type {\n",
              "        vertical-align: middle;\n",
              "    }\n",
              "\n",
              "    .dataframe tbody tr th {\n",
              "        vertical-align: top;\n",
              "    }\n",
              "\n",
              "    .dataframe thead th {\n",
              "        text-align: right;\n",
              "    }\n",
              "</style>\n",
              "<table border=\"1\" class=\"dataframe\">\n",
              "  <thead>\n",
              "    <tr style=\"text-align: right;\">\n",
              "      <th></th>\n",
              "      <th>price</th>\n",
              "      <th>date</th>\n",
              "      <th>ticker</th>\n",
              "      <th>Log Return</th>\n",
              "    </tr>\n",
              "  </thead>\n",
              "  <tbody>\n",
              "    <tr>\n",
              "      <th>494</th>\n",
              "      <td>89.266358</td>\n",
              "      <td>2017-06-19</td>\n",
              "      <td>B</td>\n",
              "      <td>-0.003761</td>\n",
              "    </tr>\n",
              "    <tr>\n",
              "      <th>495</th>\n",
              "      <td>87.920671</td>\n",
              "      <td>2017-06-20</td>\n",
              "      <td>B</td>\n",
              "      <td>-0.015190</td>\n",
              "    </tr>\n",
              "    <tr>\n",
              "      <th>496</th>\n",
              "      <td>86.471224</td>\n",
              "      <td>2017-06-21</td>\n",
              "      <td>B</td>\n",
              "      <td>-0.016623</td>\n",
              "    </tr>\n",
              "    <tr>\n",
              "      <th>497</th>\n",
              "      <td>86.965300</td>\n",
              "      <td>2017-06-22</td>\n",
              "      <td>B</td>\n",
              "      <td>0.005698</td>\n",
              "    </tr>\n",
              "    <tr>\n",
              "      <th>498</th>\n",
              "      <td>85.980963</td>\n",
              "      <td>2017-06-23</td>\n",
              "      <td>B</td>\n",
              "      <td>-0.011383</td>\n",
              "    </tr>\n",
              "    <tr>\n",
              "      <th>499</th>\n",
              "      <td>85.293078</td>\n",
              "      <td>2017-06-26</td>\n",
              "      <td>B</td>\n",
              "      <td>-0.008033</td>\n",
              "    </tr>\n",
              "    <tr>\n",
              "      <th>500</th>\n",
              "      <td>86.521425</td>\n",
              "      <td>2017-06-27</td>\n",
              "      <td>B</td>\n",
              "      <td>0.014299</td>\n",
              "    </tr>\n",
              "    <tr>\n",
              "      <th>501</th>\n",
              "      <td>85.596974</td>\n",
              "      <td>2017-06-28</td>\n",
              "      <td>B</td>\n",
              "      <td>-0.010742</td>\n",
              "    </tr>\n",
              "    <tr>\n",
              "      <th>502</th>\n",
              "      <td>86.384999</td>\n",
              "      <td>2017-06-29</td>\n",
              "      <td>B</td>\n",
              "      <td>0.009164</td>\n",
              "    </tr>\n",
              "    <tr>\n",
              "      <th>503</th>\n",
              "      <td>87.479757</td>\n",
              "      <td>2017-06-30</td>\n",
              "      <td>B</td>\n",
              "      <td>0.012593</td>\n",
              "    </tr>\n",
              "  </tbody>\n",
              "</table>\n",
              "</div>"
            ],
            "text/plain": [
              "         price       date ticker  Log Return\n",
              "494  89.266358 2017-06-19      B   -0.003761\n",
              "495  87.920671 2017-06-20      B   -0.015190\n",
              "496  86.471224 2017-06-21      B   -0.016623\n",
              "497  86.965300 2017-06-22      B    0.005698\n",
              "498  85.980963 2017-06-23      B   -0.011383\n",
              "499  85.293078 2017-06-26      B   -0.008033\n",
              "500  86.521425 2017-06-27      B    0.014299\n",
              "501  85.596974 2017-06-28      B   -0.010742\n",
              "502  86.384999 2017-06-29      B    0.009164\n",
              "503  87.479757 2017-06-30      B    0.012593"
            ]
          },
          "metadata": {
            "tags": []
          },
          "execution_count": 13
        }
      ]
    },
    {
      "cell_type": "code",
      "metadata": {
        "id": "lm2dUbvwVDY1",
        "colab_type": "code",
        "outputId": "8992f8fc-3d60-4223-c6cb-eb08886147fc",
        "colab": {
          "base_uri": "https://localhost:8080/",
          "height": 85
        }
      },
      "source": [
        "# calculate standard deviation (volatility) per ticker\n",
        "prices.groupby('ticker').std()['Log Return']"
      ],
      "execution_count": 0,
      "outputs": [
        {
          "output_type": "execute_result",
          "data": {
            "text/plain": [
              "ticker\n",
              "A    0.006444\n",
              "B    0.026721\n",
              "Name: Log Return, dtype: float64"
            ]
          },
          "metadata": {
            "tags": []
          },
          "execution_count": 15
        }
      ]
    },
    {
      "cell_type": "markdown",
      "metadata": {
        "id": "EI_D2nI59bEC",
        "colab_type": "text"
      },
      "source": [
        "Read Microsoft data from csv"
      ]
    },
    {
      "cell_type": "code",
      "metadata": {
        "id": "v1zyH6Ut86x4",
        "colab_type": "code",
        "colab": {}
      },
      "source": [
        "file_name = 'MSFT.csv'\n",
        "# load stock data from csv\n",
        "data = pd.read_csv(my_drive_path+file_name, parse_dates=[\"date\"], index_col='date')\n",
        "X = data['close']"
      ],
      "execution_count": 0,
      "outputs": []
    },
    {
      "cell_type": "code",
      "metadata": {
        "id": "86xiJwZv9-qs",
        "colab_type": "code",
        "colab": {
          "base_uri": "https://localhost:8080/",
          "height": 265
        },
        "outputId": "0ff33b37-9ef9-4574-afe0-fc00feba5f1d"
      },
      "source": [
        "plt.plot(X.index, X.values)\n",
        "plt.ylabel('Price')\n",
        "plt.legend(['MSFT']);"
      ],
      "execution_count": 8,
      "outputs": [
        {
          "output_type": "display_data",
          "data": {
            "image/png": "[encoded data removed]",
            "text/plain": [
              "<Figure size 432x288 with 1 Axes>"
            ]
          },
          "metadata": {
            "tags": [],
            "needs_background": "light"
          }
        }
      ]
    },
    {
      "cell_type": "code",
      "metadata": {
        "id": "piYuOpyN-DRI",
        "colab_type": "code",
        "colab": {
          "base_uri": "https://localhost:8080/",
          "height": 279
        },
        "outputId": "b5ce34fb-6540-4d44-88cd-ee5838dbab70"
      },
      "source": [
        "R = X.pct_change()[1:]   # drow the first value as this is NA\n",
        "plt.hist(R, bins=20)\n",
        "plt.xlabel('Return')\n",
        "plt.ylabel('Frequency')\n",
        "plt.legend(['MSFT Returns']);"
      ],
      "execution_count": 9,
      "outputs": [
        {
          "output_type": "display_data",
          "data": {
            "image/png": "[encoded data removed]",
            "text/plain": [
              "<Figure size 432x288 with 1 Axes>"
            ]
          },
          "metadata": {
            "tags": [],
            "needs_background": "light"
          }
        }
      ]
    },
    {
      "cell_type": "code",
      "metadata": {
        "id": "LCEtIrRW-Omw",
        "colab_type": "code",
        "colab": {
          "base_uri": "https://localhost:8080/",
          "height": 279
        },
        "outputId": "8255ec24-4986-4477-958d-3376b63a1225"
      },
      "source": [
        "\n",
        "plt.hist(np.random.normal(np.mean(R), np.std(R), 10000), bins=20)\n",
        "plt.xlabel('Return')\n",
        "plt.ylabel('Frequency')\n",
        "plt.legend(['Normally Distributed Returns']);"
      ],
      "execution_count": 10,
      "outputs": [
        {
          "output_type": "display_data",
          "data": {
            "image/png": "[encoded data removed]",
            "text/plain": [
              "<Figure size 432x288 with 1 Axes>"
            ]
          },
          "metadata": {
            "tags": [],
            "needs_background": "light"
          }
        }
      ]
    },
    {
      "cell_type": "code",
      "metadata": {
        "id": "R07QXwr8-TQ_",
        "colab_type": "code",
        "colab": {
          "base_uri": "https://localhost:8080/",
          "height": 265
        },
        "outputId": "5e04c652-0eb8-4bee-9fd3-134346b3ecb8"
      },
      "source": [
        "# Take the average of the last 60 days at each timepoint.\n",
        "MAVG = X.rolling(60).mean()\n",
        "plt.plot(X.index, X.values)\n",
        "plt.plot(MAVG.index, MAVG.values)\n",
        "plt.ylabel('Price')\n",
        "plt.legend(['MSFT', '60-day MAVG']);"
      ],
      "execution_count": 11,
      "outputs": [
        {
          "output_type": "display_data",
          "data": {
            "image/png": "[encoded data removed]",
            "text/plain": [
              "<Figure size 432x288 with 1 Axes>"
            ]
          },
          "metadata": {
            "tags": [],
            "needs_background": "light"
          }
        }
      ]
    },
    {
      "cell_type": "markdown",
      "metadata": {
        "id": "b3-oHd0BZfeY",
        "colab_type": "text"
      },
      "source": [
        "# Calculate Exponentially weigthed volatility\n",
        "\n",
        "Estimate Volatility\n",
        "Create an exponential moving average model of volatility. Use the following \n",
        "\n",
        "[link text](https://pandas.pydata.org/pandas-docs/stable/user_guide/computation.html)\n",
        "\n",
        "Pandas provides built-in exponentially weighted moving window functions with the .ewm method. Consider using .ewm().mean(), and be sure to properly specify the alpha parameter (hint: it is related to, but not equal to \n",
        "λ\\lambda\n",
        "λ). \n",
        "Note that .ewm().std() and .ewm().var() implement ewmvar(x) = ewma(x**2) - ewma(x)**2, which is slightly different than what you'll want to implement for this problem.\n"
      ]
    },
    {
      "cell_type": "code",
      "metadata": {
        "id": "eqMHj_UgZyE6",
        "colab_type": "code",
        "outputId": "44f63fce-4d7d-473c-fe96-1884bd76c8b0",
        "colab": {
          "base_uri": "https://localhost:8080/",
          "height": 221
        }
      },
      "source": [
        "file_name = 'data.csv'\n",
        "prices = pd.read_csv(my_drive_path+file_name, parse_dates=['date'], index_col='date', squeeze=True)\n",
        "prices.head(10)"
      ],
      "execution_count": 0,
      "outputs": [
        {
          "output_type": "execute_result",
          "data": {
            "text/plain": [
              "date\n",
              "2013-07-02    558.460000\n",
              "2013-07-03    556.617926\n",
              "2013-07-05    558.441898\n",
              "2013-07-08    556.181508\n",
              "2013-07-09    558.742118\n",
              "2013-07-10    556.714543\n",
              "2013-07-11    556.501555\n",
              "2013-07-12    557.766786\n",
              "2013-07-15    551.049572\n",
              "2013-07-16    554.834074\n",
              "Name: price, dtype: float64"
            ]
          },
          "metadata": {
            "tags": []
          },
          "execution_count": 20
        }
      ]
    },
    {
      "cell_type": "code",
      "metadata": {
        "id": "2SYyn8g-aBXz",
        "colab_type": "code",
        "outputId": "55869722-2dd3-48d3-f542-9466876c3b8d",
        "colab": {
          "base_uri": "https://localhost:8080/",
          "height": 359
        }
      },
      "source": [
        "def estimate_volatility(prices, l):\n",
        "    \"\"\"Create an exponential moving average model of the volatility of a stock\n",
        "    price, and return the most recent (last) volatility estimate.\n",
        "    \n",
        "    Parameters\n",
        "    ----------\n",
        "    prices : pandas.Series\n",
        "        A series of adjusted closing prices for a stock.\n",
        "        \n",
        "    l : float\n",
        "        The 'lambda' parameter of the exponential moving average model. Making\n",
        "        this value smaller will cause the model to weight older terms less \n",
        "        relative to more recent terms.\n",
        "        \n",
        "    Returns\n",
        "    -------\n",
        "    last_vol : float\n",
        "        The last element of your exponential moving averge volatility model series.\n",
        "    \n",
        "    \"\"\"\n",
        "    # TODO: Implement the exponential moving average volatility model and return the last value.\n",
        "    \n",
        "    pass"
      ],
      "execution_count": 0,
      "outputs": [
        {
          "output_type": "execute_result",
          "data": {
            "text/html": [
              "<div>\n",
              "<style scoped>\n",
              "    .dataframe tbody tr th:only-of-type {\n",
              "        vertical-align: middle;\n",
              "    }\n",
              "\n",
              "    .dataframe tbody tr th {\n",
              "        vertical-align: top;\n",
              "    }\n",
              "\n",
              "    .dataframe thead th {\n",
              "        text-align: right;\n",
              "    }\n",
              "</style>\n",
              "<table border=\"1\" class=\"dataframe\">\n",
              "  <thead>\n",
              "    <tr style=\"text-align: right;\">\n",
              "      <th></th>\n",
              "      <th>price</th>\n",
              "      <th>date</th>\n",
              "    </tr>\n",
              "  </thead>\n",
              "  <tbody>\n",
              "    <tr>\n",
              "      <th>0</th>\n",
              "      <td>558.460000</td>\n",
              "      <td>2013-07-02</td>\n",
              "    </tr>\n",
              "    <tr>\n",
              "      <th>1</th>\n",
              "      <td>556.617926</td>\n",
              "      <td>2013-07-03</td>\n",
              "    </tr>\n",
              "    <tr>\n",
              "      <th>2</th>\n",
              "      <td>558.441898</td>\n",
              "      <td>2013-07-05</td>\n",
              "    </tr>\n",
              "    <tr>\n",
              "      <th>3</th>\n",
              "      <td>556.181508</td>\n",
              "      <td>2013-07-08</td>\n",
              "    </tr>\n",
              "    <tr>\n",
              "      <th>4</th>\n",
              "      <td>558.742118</td>\n",
              "      <td>2013-07-09</td>\n",
              "    </tr>\n",
              "    <tr>\n",
              "      <th>5</th>\n",
              "      <td>556.714543</td>\n",
              "      <td>2013-07-10</td>\n",
              "    </tr>\n",
              "    <tr>\n",
              "      <th>6</th>\n",
              "      <td>556.501555</td>\n",
              "      <td>2013-07-11</td>\n",
              "    </tr>\n",
              "    <tr>\n",
              "      <th>7</th>\n",
              "      <td>557.766786</td>\n",
              "      <td>2013-07-12</td>\n",
              "    </tr>\n",
              "    <tr>\n",
              "      <th>8</th>\n",
              "      <td>551.049572</td>\n",
              "      <td>2013-07-15</td>\n",
              "    </tr>\n",
              "    <tr>\n",
              "      <th>9</th>\n",
              "      <td>554.834074</td>\n",
              "      <td>2013-07-16</td>\n",
              "    </tr>\n",
              "  </tbody>\n",
              "</table>\n",
              "</div>"
            ],
            "text/plain": [
              "        price       date\n",
              "0  558.460000 2013-07-02\n",
              "1  556.617926 2013-07-03\n",
              "2  558.441898 2013-07-05\n",
              "3  556.181508 2013-07-08\n",
              "4  558.742118 2013-07-09\n",
              "5  556.714543 2013-07-10\n",
              "6  556.501555 2013-07-11\n",
              "7  557.766786 2013-07-12\n",
              "8  551.049572 2013-07-15\n",
              "9  554.834074 2013-07-16"
            ]
          },
          "metadata": {
            "tags": []
          },
          "execution_count": 17
        }
      ]
    }
  ]
}